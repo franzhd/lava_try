{
 "cells": [
  {
   "cell_type": "code",
   "execution_count": 1,
   "metadata": {},
   "outputs": [
    {
     "ename": "ModuleNotFoundError",
     "evalue": "No module named 'lava'",
     "output_type": "error",
     "traceback": [
      "\u001b[0;31m---------------------------------------------------------------------------\u001b[0m",
      "\u001b[0;31mModuleNotFoundError\u001b[0m                       Traceback (most recent call last)",
      "\u001b[1;32m/home/franzhd/lava_try/step_training/deployla_lava.ipynb Cell 1'\u001b[0m in \u001b[0;36m<cell line: 1>\u001b[0;34m()\u001b[0m\n\u001b[0;32m----> <a href='vscode-notebook-cell:/home/franzhd/lava_try/step_training/deployla_lava.ipynb#ch0000000?line=0'>1</a>\u001b[0m \u001b[39mfrom\u001b[39;00m \u001b[39mlava\u001b[39;00m\u001b[39m.\u001b[39;00m\u001b[39mlib\u001b[39;00m\u001b[39m.\u001b[39;00m\u001b[39mdl\u001b[39;00m\u001b[39m.\u001b[39;00m\u001b[39mnetx\u001b[39;00m \u001b[39mimport\u001b[39;00m hdf5\n\u001b[1;32m      <a href='vscode-notebook-cell:/home/franzhd/lava_try/step_training/deployla_lava.ipynb#ch0000000?line=1'>2</a>\u001b[0m \u001b[39mimport\u001b[39;00m \u001b[39mtorchvision\u001b[39;00m\u001b[39m.\u001b[39;00m\u001b[39mdatasets\u001b[39;00m \u001b[39mas\u001b[39;00m \u001b[39mdatasets\u001b[39;00m\n\u001b[1;32m      <a href='vscode-notebook-cell:/home/franzhd/lava_try/step_training/deployla_lava.ipynb#ch0000000?line=2'>3</a>\u001b[0m \u001b[39mfrom\u001b[39;00m \u001b[39mtorchvision\u001b[39;00m \u001b[39mimport\u001b[39;00m transforms\n",
      "\u001b[0;31mModuleNotFoundError\u001b[0m: No module named 'lava'"
     ]
    }
   ],
   "source": [
    "from lava.lib.dl.netx import hdf5\n",
    "import torchvision.datasets as datasets\n",
    "from torchvision import transforms\n",
    "from torch.utils.data import Dataset, DataLoader,Subset\n",
    "from matplotlib import animation\n",
    "import matplotlib.pyplot as plt\n",
    "\n",
    "import numpy as np\n",
    " \n",
    "from lava.proc import io\n",
    "from lava.magma.core import run_configs as rcfg\n",
    "from lava.magma.core import run_conditions as rcnd\n",
    "import lava.lib.dl.slayer as slayer\n"
   ]
  },
  {
   "cell_type": "code",
   "execution_count": null,
   "metadata": {},
   "outputs": [],
   "source": [
    "##custom transformation to encode images in spikes\n",
    "class To_spikes(object):\n",
    "    def __init__(self,time_steps, vth, img_H, img_W=None): ##return a np.array of (HxW,timesteps)\n",
    "        if img_W==None:\n",
    "            img_W=img_H\n",
    "        self.shape = img_H*img_W\n",
    "        self.vth =vth\n",
    "        self.time_steps = time_steps\n",
    "\n",
    "        self.v=np.zeros((self.shape,))\n",
    "\n",
    "    def __call__(self, sample):\n",
    "        \n",
    "        out =[]\n",
    "        sample = np.array(sample,dtype=np.int32)\n",
    "        sample = sample -127\n",
    "        sample = np.reshape(sample, (self.shape,))\n",
    "        for i in range(self.time_steps):\n",
    "           \n",
    "            self.v = self.v + sample\n",
    "            tmp = self.v > self.vth\n",
    "            self.v[tmp] = 0\n",
    "\n",
    "            if i==0:\n",
    "                out=np.array([tmp])\n",
    "            else:\n",
    "                out=np.vstack((out,tmp))\n",
    "        \n",
    "        self.v[:] = 0\n",
    "        \n",
    "        return out.T.astype(np.float32)\n",
    "\n",
    "\n",
    "class squeeze_Tensor(object):\n",
    "    \n",
    "    def __init__(self, dim):\n",
    "        self.dim = dim\n",
    "\n",
    "    def __call__(self, sample):\n",
    "        return sample.squeeze(self.dim)"
   ]
  },
  {
   "cell_type": "code",
   "execution_count": null,
   "metadata": {},
   "outputs": [],
   "source": [
    "transformation = transforms.Compose([To_spikes(128, 1, 28),transforms.ToTensor(),squeeze_Tensor(0) ])\n",
    "testing_set  = datasets.MNIST(root='./data', train=False, download=True, transform=transformation)\n",
    "testset =Subset(testing_set, range(1))\n",
    "net = hdf5.Network(net_config='./Trained/network.net') \n",
    "\n",
    "print(net)\n",
    "\n",
    "print(f'There are {len(net)} layers in network:')\n",
    "\n",
    "for l in net.layers:\n",
    "    print(f'{l.block:5s} : {l.name:10s}, shape : {l.shape}')"
   ]
  },
  {
   "cell_type": "code",
   "execution_count": null,
   "metadata": {},
   "outputs": [],
   "source": [
    "# Instantiate the processes\n",
    "dataloader = io.dataloader.SpikeDataloader(dataset= testset) \n",
    "print(\"dataloader out port shape\", dataloader.s_out.shape)\n",
    "print(\"net in port shape\", net.inp.shape)\n",
    "output_logger = io.sink.RingBuffer(shape=net.out_layer.shape, buffer=128)\n",
    "gt_logger = io.sink.RingBuffer(shape=(1,), buffer=128)\n",
    "\n",
    "# Connect the input to the network:\n",
    "dataloader.ground_truth.connect(gt_logger.a_in)\n",
    "dataloader.s_out.connect(net.inp)\n",
    "\n",
    "# Connect network-output to the output process\n",
    "net.out_layer.out.connect(output_logger.a_in)"
   ]
  },
  {
   "cell_type": "code",
   "execution_count": null,
   "metadata": {},
   "outputs": [],
   "source": [
    "net.run(condition=rcnd.RunSteps(128), run_cfg=rcfg.Loihi1SimCfg(select_tag='fixed_pt'))\n",
    "output = output_logger.data.get()\n",
    "gts = gt_logger.data.get()\n",
    "net.stop()\n"
   ]
  },
  {
   "cell_type": "code",
   "execution_count": null,
   "metadata": {},
   "outputs": [],
   "source": [
    "out_event = slayer.io.tensor_to_event(output.reshape((1,) + output.shape))\n"
   ]
  },
  {
   "cell_type": "code",
   "execution_count": null,
   "metadata": {},
   "outputs": [],
   "source": [
    "fig, ax = plt.subplots(figsize=(15, 7))\n",
    "\n",
    "ax.plot(out_event.t, out_event.x, '.', markersize=2)\n",
    "ax.set_title('Lava')\n",
    "ax.set_xlabel('time')\n",
    "print(\"label for current sample\",testset[0][1])\n",
    "#WTA Layer output"
   ]
  },
  {
   "cell_type": "code",
   "execution_count": null,
   "metadata": {},
   "outputs": [],
   "source": [
    "output"
   ]
  }
 ],
 "metadata": {
  "kernelspec": {
   "display_name": "Python 3.9.12 ('base')",
   "language": "python",
   "name": "python3"
  },
  "language_info": {
   "codemirror_mode": {
    "name": "ipython",
    "version": 3
   },
   "file_extension": ".py",
   "mimetype": "text/x-python",
   "name": "python",
   "nbconvert_exporter": "python",
   "pygments_lexer": "ipython3",
   "version": "3.9.12"
  },
  "orig_nbformat": 4,
  "vscode": {
   "interpreter": {
    "hash": "2e3d0efdbb3e113d01e5769fb69806e0ceca75aa1a79f173351254e4f6c132e9"
   }
  }
 },
 "nbformat": 4,
 "nbformat_minor": 2
}
